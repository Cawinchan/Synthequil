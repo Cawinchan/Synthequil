{
 "cells": [
  {
   "cell_type": "code",
   "execution_count": 27,
   "metadata": {},
   "outputs": [],
   "source": [
    "import pandas as pd\n",
    "import fasttext\n",
    "from gensim.utils import tokenize\n",
    "import random\n",
    "import numpy as np\n"
   ]
  },
  {
   "cell_type": "code",
   "execution_count": 8,
   "metadata": {},
   "outputs": [
    {
     "name": "stderr",
     "output_type": "stream",
     "text": [
      "Warning : `load_model` does not return WordVectorModel or SupervisedModel any more, but a `FastText` object which is very similar.\n"
     ]
    }
   ],
   "source": [
    "clotho = pd.read_csv(\"raw_data/clotho_captions_evaluation.csv\")"
   ]
  },
  {
   "cell_type": "code",
   "execution_count": null,
   "metadata": {},
   "outputs": [],
   "source": [
    "# Note that the embedding dimension is 300 \n",
    "fasttext_model =  fasttext.load_model('pre-trained_fasttext/crawl-300d-2M-subword.bin')"
   ]
  },
  {
   "cell_type": "code",
   "execution_count": 45,
   "metadata": {},
   "outputs": [],
   "source": [
    "def Combine_caption_columns_into_one_column(df,fasttext_model):\n",
    "    \"\"\"Converts a df with file_name and multiple caption columns into 1 column\n",
    "\n",
    "    file_name          caption_1        caption_2       caption_3  caption_4 \n",
    "    young artists.wav  male and women   youth aspiring  ..         ..\n",
    "    \n",
    "    ↓\n",
    "\n",
    "    file_name          caption\n",
    "    young artists.wav  male and women\n",
    "    young artists.wav  youth aspiring\n",
    "    young artists.wav  ...\n",
    "    \n",
    "    Input:df \n",
    "    Output:converted df \n",
    "\"\"\"\n",
    "    temp_lst = []\n",
    "    counter = 0\n",
    "    for k,v in df.iterrows():\n",
    "        file_name = v[0]\n",
    "        for i in range(1,len(v)):\n",
    "\n",
    "            tokenized_words = list(tokenize(v[i]))\n",
    "\n",
    "            # if counter in (0,1,2,3):\n",
    "            #     print(len(tokenized_words),tokenized_words)\n",
    "            #     counter += 1\n",
    "\n",
    "            # Exchangable word-to-vect model\n",
    "            word_vecs = [fasttext_model.get_word_vector(j) for j in tokenized_words]\n",
    "            # To be changed, if bad performanceword_vecs = [fasttext_model.get_word_vector(j) for j in tokenized_words]\n",
    "            avg_word_vecs = np.divide(np.sum(word_vecs, axis=0),len(tokenized_words))\n",
    "            temp_lst.append([file_name, avg_word_vecs])\n",
    "    # Sorted for easier searching\n",
    "    df = pd.DataFrame(temp_lst,columns=['file_name','caption']).sort_values(by=['file_name']).reset_index(drop=True)\n",
    "    return df"
   ]
  },
  {
   "cell_type": "code",
   "execution_count": 46,
   "metadata": {},
   "outputs": [
    {
     "data": {
      "text/html": [
       "<div>\n",
       "<style scoped>\n",
       "    .dataframe tbody tr th:only-of-type {\n",
       "        vertical-align: middle;\n",
       "    }\n",
       "\n",
       "    .dataframe tbody tr th {\n",
       "        vertical-align: top;\n",
       "    }\n",
       "\n",
       "    .dataframe thead th {\n",
       "        text-align: right;\n",
       "    }\n",
       "</style>\n",
       "<table border=\"1\" class=\"dataframe\">\n",
       "  <thead>\n",
       "    <tr style=\"text-align: right;\">\n",
       "      <th></th>\n",
       "      <th>file_name</th>\n",
       "      <th>caption</th>\n",
       "    </tr>\n",
       "  </thead>\n",
       "  <tbody>\n",
       "    <tr>\n",
       "      <th>0</th>\n",
       "      <td>01 A pug struggles to breathe 1_14_2008.wav</td>\n",
       "      <td>[-0.0010263734, 0.032575328, 0.07291455, 0.003...</td>\n",
       "    </tr>\n",
       "    <tr>\n",
       "      <th>1</th>\n",
       "      <td>01 A pug struggles to breathe 1_14_2008.wav</td>\n",
       "      <td>[-0.0027864054, 0.026300091, 0.08160074, -0.00...</td>\n",
       "    </tr>\n",
       "    <tr>\n",
       "      <th>2</th>\n",
       "      <td>01 A pug struggles to breathe 1_14_2008.wav</td>\n",
       "      <td>[0.00487091, 0.009667663, 0.042670406, 0.00672...</td>\n",
       "    </tr>\n",
       "    <tr>\n",
       "      <th>3</th>\n",
       "      <td>01 A pug struggles to breathe 1_14_2008.wav</td>\n",
       "      <td>[0.0010986233, -0.017237674, 0.081616476, 0.01...</td>\n",
       "    </tr>\n",
       "    <tr>\n",
       "      <th>4</th>\n",
       "      <td>01 A pug struggles to breathe 1_14_2008.wav</td>\n",
       "      <td>[0.010673653, 0.01178974, 0.045919742, 0.01241...</td>\n",
       "    </tr>\n",
       "    <tr>\n",
       "      <th>...</th>\n",
       "      <td>...</td>\n",
       "      <td>...</td>\n",
       "    </tr>\n",
       "    <tr>\n",
       "      <th>5220</th>\n",
       "      <td>young artists.wav</td>\n",
       "      <td>[0.013803961, -0.04192563, 0.06460683, 0.00279...</td>\n",
       "    </tr>\n",
       "    <tr>\n",
       "      <th>5221</th>\n",
       "      <td>young artists.wav</td>\n",
       "      <td>[0.00072285323, 0.0025999807, 0.04834584, 0.00...</td>\n",
       "    </tr>\n",
       "    <tr>\n",
       "      <th>5222</th>\n",
       "      <td>young artists.wav</td>\n",
       "      <td>[0.0021603287, -0.011772836, 0.051467545, 0.00...</td>\n",
       "    </tr>\n",
       "    <tr>\n",
       "      <th>5223</th>\n",
       "      <td>young artists.wav</td>\n",
       "      <td>[0.0020250888, -0.02334438, 0.063647024, 0.005...</td>\n",
       "    </tr>\n",
       "    <tr>\n",
       "      <th>5224</th>\n",
       "      <td>young artists.wav</td>\n",
       "      <td>[0.011946672, -0.047393486, 0.08030546, 0.0135...</td>\n",
       "    </tr>\n",
       "  </tbody>\n",
       "</table>\n",
       "<p>5225 rows × 2 columns</p>\n",
       "</div>"
      ],
      "text/plain": [
       "                                        file_name  \\\n",
       "0     01 A pug struggles to breathe 1_14_2008.wav   \n",
       "1     01 A pug struggles to breathe 1_14_2008.wav   \n",
       "2     01 A pug struggles to breathe 1_14_2008.wav   \n",
       "3     01 A pug struggles to breathe 1_14_2008.wav   \n",
       "4     01 A pug struggles to breathe 1_14_2008.wav   \n",
       "...                                           ...   \n",
       "5220                            young artists.wav   \n",
       "5221                            young artists.wav   \n",
       "5222                            young artists.wav   \n",
       "5223                            young artists.wav   \n",
       "5224                            young artists.wav   \n",
       "\n",
       "                                                caption  \n",
       "0     [-0.0010263734, 0.032575328, 0.07291455, 0.003...  \n",
       "1     [-0.0027864054, 0.026300091, 0.08160074, -0.00...  \n",
       "2     [0.00487091, 0.009667663, 0.042670406, 0.00672...  \n",
       "3     [0.0010986233, -0.017237674, 0.081616476, 0.01...  \n",
       "4     [0.010673653, 0.01178974, 0.045919742, 0.01241...  \n",
       "...                                                 ...  \n",
       "5220  [0.013803961, -0.04192563, 0.06460683, 0.00279...  \n",
       "5221  [0.00072285323, 0.0025999807, 0.04834584, 0.00...  \n",
       "5222  [0.0021603287, -0.011772836, 0.051467545, 0.00...  \n",
       "5223  [0.0020250888, -0.02334438, 0.063647024, 0.005...  \n",
       "5224  [0.011946672, -0.047393486, 0.08030546, 0.0135...  \n",
       "\n",
       "[5225 rows x 2 columns]"
      ]
     },
     "execution_count": 46,
     "metadata": {},
     "output_type": "execute_result"
    }
   ],
   "source": [
    "input_df = Combine_caption_columns_into_one_column(clotho,fasttext_model)\n",
    "input_df"
   ]
  },
  {
   "cell_type": "code",
   "execution_count": 47,
   "metadata": {},
   "outputs": [
    {
     "name": "stdout",
     "output_type": "stream",
     "text": [
      "300\n",
      "300\n"
     ]
    }
   ],
   "source": [
    "# Sanity Check\n",
    "print(len(input_df['caption'][4]))\n",
    "print(len(input_df['caption'][10]))\n"
   ]
  },
  {
   "cell_type": "code",
   "execution_count": null,
   "metadata": {},
   "outputs": [],
   "source": []
  }
 ],
 "metadata": {
  "interpreter": {
   "hash": "4c1b642627569bcc4b862c0530c2d477fffe7311302631907cc769f08d8277df"
  },
  "kernelspec": {
   "display_name": "Python 3.8.5 ('base')",
   "language": "python",
   "name": "python3"
  },
  "language_info": {
   "codemirror_mode": {
    "name": "ipython",
    "version": 3
   },
   "file_extension": ".py",
   "mimetype": "text/x-python",
   "name": "python",
   "nbconvert_exporter": "python",
   "pygments_lexer": "ipython3",
   "version": "3.8.5"
  },
  "orig_nbformat": 4
 },
 "nbformat": 4,
 "nbformat_minor": 2
}
